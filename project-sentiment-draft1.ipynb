{
 "cells": [
  {
   "cell_type": "markdown",
   "id": "d9fd6793-03b5-4ecc-9e95-d75cc23188f7",
   "metadata": {
    "tags": []
   },
   "source": [
    "# exploring different areas of text analytics.\n",
    "_Looking to learn more about text analytics. My overall goal is to train an accurate sentiment analyzer_"
   ]
  },
  {
   "cell_type": "markdown",
   "id": "d8518672-7ed1-4074-920b-bae7b8ab0d5d",
   "metadata": {},
   "source": [
    "*Amazon Customer Reviews with Sentiment\n",
    "- https://www.kaggle.com/datasets/thedevastator/amazon-customer-reviews-with-2013-2019-sentiment"
   ]
  },
  {
   "cell_type": "markdown",
   "id": "fefc210a-8966-4c38-9e5a-6b4753a8b97f",
   "metadata": {
    "tags": []
   },
   "source": [
    "## methods I'm exploring \n",
    "\n",
    "### * Bag of Words method\n",
    "> - taking each word from a sentence to get some kind of measure by which we can find out if the word exists in another sentence or not and also its importance\n",
    "> - each sentence in the google reviews will be treated as a bag of words, in other words each sentence is a **document** and all the documents make up a **corpus**\n",
    "\n",
    "#### goals\n",
    "1. create a dictionary of all the unique words in the corpus (exclusding words like \"the\", \"an\", \"is\" etc)\n",
    "1. convert all documents into vectors which will represent the presence of words from our dictionary in the documents.\n",
    "* *We're going to do this with the Tf-idf vectorizer in sklearn*\n",
    "\n",
    "#### steps\n",
    "1. Count the number of times each word appears in each document(hotel review)\n",
    "    1. create feature vector and find out of how many zeroes are in my feature vector.\n",
    "    1. calculate the non-zero value density in the vector\n",
    "    1. remove stopwords and non-english characters\n",
    "    1. test stemming or lemmatization"
   ]
  },
  {
   "cell_type": "code",
   "execution_count": 1,
   "id": "2bbed896-0d21-4b36-a09e-fb619a37f045",
   "metadata": {},
   "outputs": [],
   "source": [
    "# import dependencies\n",
    "from datetime import datetime\n",
    "from sklearn.feature_extraction.text import CountVectorizer\n",
    "from sklearn.feature_extraction.text import TfidfVectorizer\n",
    "from sklearn.model_selection import train_test_split\n",
    "from sklearn.naive_bayes import GaussianNB\n",
    "from sklearn.metrics import confusion_matrix, accuracy_score\n",
    "from sklearn.naive_bayes import BernoulliNB\n",
    "from sklearn.metrics import classification_report\n",
    "from nltk.corpus import stopwords\n",
    "from nltk.stem.porter import PorterStemmer\n",
    "from nltk.stem import WordNetLemmatizer\n",
    "import pandas as pd\n",
    "import numpy as np\n",
    "import matplotlib.pyplot as plt\n",
    "import seaborn as sns\n",
    "import random\n",
    "import regex as re\n",
    "import warnings\n",
    "warnings.filterwarnings('ignore')"
   ]
  },
  {
   "cell_type": "markdown",
   "id": "4ecd96c1-7f6b-40ab-8209-2655a06f6bb5",
   "metadata": {
    "tags": []
   },
   "source": [
    "# load data"
   ]
  },
  {
   "cell_type": "code",
   "execution_count": 2,
   "id": "985d9f88-8ff8-41c2-aba6-3021049730e0",
   "metadata": {
    "tags": []
   },
   "outputs": [],
   "source": [
    "initData = pd.read_csv('resources/Amazon Review Data Web Scrapping - Amazon Review Data Web Scrapping.csv', encoding='ISO-8859-1')"
   ]
  },
  {
   "cell_type": "markdown",
   "id": "b4ab33e1-d9ca-400d-86b1-c7800906971b",
   "metadata": {},
   "source": [
    "## let's do some quick initial cleaning and exploring into the dataset"
   ]
  },
  {
   "cell_type": "code",
   "execution_count": 3,
   "id": "35f1f0f4-af3a-4ec2-adc1-343743a17291",
   "metadata": {
    "tags": []
   },
   "outputs": [
    {
     "name": "stdout",
     "output_type": "stream",
     "text": [
      "<class 'pandas.core.frame.DataFrame'>\n",
      "RangeIndex: 60889 entries, 0 to 60888\n",
      "Data columns (total 6 columns):\n",
      " #   Column         Non-Null Count  Dtype \n",
      "---  ------         --------------  ----- \n",
      " 0   Unique_ID      60889 non-null  int64 \n",
      " 1   Category       60889 non-null  object\n",
      " 2   Review_Header  60884 non-null  object\n",
      " 3   Review_text    60857 non-null  object\n",
      " 4   Rating         60889 non-null  int64 \n",
      " 5   Own_Rating     60889 non-null  object\n",
      "dtypes: int64(2), object(4)\n",
      "memory usage: 2.8+ MB\n"
     ]
    }
   ],
   "source": [
    "initData.info()"
   ]
  },
  {
   "cell_type": "code",
   "execution_count": 4,
   "id": "5dd48c96-b9b3-49c2-be7f-0f7916ea095f",
   "metadata": {
    "tags": []
   },
   "outputs": [
    {
     "data": {
      "text/plain": [
       "Review_text\n",
       "Good                                                                                                                                                                                                                            2316\n",
       "Nice                                                                                                                                                                                                                             707\n",
       "Good product                                                                                                                                                                                                                     487\n",
       "Ok                                                                                                                                                                                                                               297\n",
       "Excellent                                                                                                                                                                                                                        269\n",
       "                                                                                                                                                                                                                                ... \n",
       "Nice wires                                                                                                                                                                                                                         1\n",
       "Best Beast in this price range till now! ðð¤©                                                                                                                                                                                  1\n",
       "It's worst product sale by Amazon navigation is not working,I was trying so many times to contact Amazon                                                                                                                           1\n",
       "Sound quality is good, voice recognition fails few times like when your voice is low or too fast.overall good product.                                                                                                             1\n",
       "fingerprint reader average Camera quality below average compared to same MP camera like OPPO,VIVO, SAMSUNG phone. Battery life Average Touch average abd when water drops on screen then it will not work Sometimes it hangs       1\n",
       "Name: count, Length: 49882, dtype: int64"
      ]
     },
     "execution_count": 4,
     "metadata": {},
     "output_type": "execute_result"
    }
   ],
   "source": [
    "# we can get a quick overview of how many reviews share the same text with value_counts function\n",
    "initData['Review_text'].value_counts()"
   ]
  },
  {
   "cell_type": "code",
   "execution_count": 5,
   "id": "0ebb81c5-96b5-4775-9e36-d6ad9e3f5a17",
   "metadata": {},
   "outputs": [
    {
     "data": {
      "text/plain": [
       "32"
      ]
     },
     "execution_count": 5,
     "metadata": {},
     "output_type": "execute_result"
    }
   ],
   "source": [
    "# how many nans are in the dataset\n",
    "initData['Review_text'].isna().sum()"
   ]
  },
  {
   "cell_type": "code",
   "execution_count": 6,
   "id": "2092e77d-031f-487e-849d-c42076c4f40d",
   "metadata": {
    "tags": []
   },
   "outputs": [],
   "source": [
    "# drop the nans \n",
    "initData = initData.dropna()"
   ]
  },
  {
   "cell_type": "code",
   "execution_count": 7,
   "id": "95ab4dd0-3275-4f7c-bda8-24f72efaafa4",
   "metadata": {
    "tags": []
   },
   "outputs": [
    {
     "data": {
      "text/plain": [
       "0"
      ]
     },
     "execution_count": 7,
     "metadata": {},
     "output_type": "execute_result"
    }
   ],
   "source": [
    "# show count of nans again to make sure its 0\n",
    "initData['Review_text'].isna().sum()"
   ]
  },
  {
   "cell_type": "code",
   "execution_count": 8,
   "id": "584aaee1-e4ff-4c80-85ca-e2759f4ae427",
   "metadata": {
    "tags": []
   },
   "outputs": [
    {
     "data": {
      "text/plain": [
       "Own_Rating\n",
       "Positive    47406\n",
       "Negative     9086\n",
       "Neutral      4363\n",
       "Name: count, dtype: int64"
      ]
     },
     "execution_count": 8,
     "metadata": {},
     "output_type": "execute_result"
    }
   ],
   "source": [
    "# show overall counts of reviews by sentiment\n",
    "initData['Own_Rating'].value_counts()"
   ]
  },
  {
   "cell_type": "code",
   "execution_count": 9,
   "id": "dd1df5ca-51f4-444e-9511-1a8ec32f7420",
   "metadata": {
    "tags": []
   },
   "outputs": [
    {
     "data": {
      "image/png": "[encoded data removed]",
      "text/plain": [
       "<Figure size 640x480 with 1 Axes>"
      ]
     },
     "metadata": {},
     "output_type": "display_data"
    }
   ],
   "source": [
    "# visualize sentimemt distribution \n",
    "sns.countplot(x = 'Own_Rating', data = initData)\n",
    "plt.xlabel('Sentiments')\n",
    "\n",
    "plt.show()"
   ]
  },
  {
   "cell_type": "markdown",
   "id": "9e628ae6-4a6a-4ccd-a283-53f59956cf85",
   "metadata": {},
   "source": [
    "## * Bag of Words method start"
   ]
  },
  {
   "cell_type": "code",
   "execution_count": 10,
   "id": "6f93d0b3-a6d3-4b6f-b891-d3c269631d85",
   "metadata": {
    "tags": []
   },
   "outputs": [],
   "source": [
    "# create the countvectorizer \n",
    "count_vector = CountVectorizer()"
   ]
  },
  {
   "cell_type": "code",
   "execution_count": 11,
   "id": "9bab9414-f4b6-482e-950d-a3349b1e1f0e",
   "metadata": {
    "tags": []
   },
   "outputs": [],
   "source": [
    "# create dictionary of words from the corpus\n",
    "features = count_vector.fit(initData['Review_text'])"
   ]
  },
  {
   "cell_type": "code",
   "execution_count": 12,
   "id": "9ac6df58-f2e9-48ec-9e5f-88e0042f3fc7",
   "metadata": {
    "tags": []
   },
   "outputs": [
    {
     "data": {
      "text/plain": [
       "array(['00', '000', '0008301163', ..., 'ã²sm', 'ð²î', 'ð²ñ'], dtype=object)"
      ]
     },
     "execution_count": 12,
     "metadata": {},
     "output_type": "execute_result"
    }
   ],
   "source": [
    "# I want to check out some words that got extracted from the corpus\n",
    "feature_names = features.get_feature_names_out()\n",
    "feature_names"
   ]
  },
  {
   "cell_type": "code",
   "execution_count": 13,
   "id": "f870c604-9ab0-4118-8505-53c6fb2e1e89",
   "metadata": {
    "tags": []
   },
   "outputs": [
    {
     "name": "stdout",
     "output_type": "stream",
     "text": [
      "Total number of features extracted are: 27301\n"
     ]
    }
   ],
   "source": [
    "print(f'Total number of features extracted are: {len(feature_names)}')"
   ]
  },
  {
   "cell_type": "markdown",
   "id": "342b6858-fb35-49a5-921e-bbb30058f88c",
   "metadata": {},
   "source": [
    "**ok bet, we have 27301 unique features identified**"
   ]
  },
  {
   "cell_type": "code",
   "execution_count": 14,
   "id": "5b3d837a-012d-43a2-845e-4cead0603ef7",
   "metadata": {
    "tags": []
   },
   "outputs": [
    {
     "data": {
      "text/plain": [
       "['balloon',\n",
       " 'togeather',\n",
       " 'classy',\n",
       " 'guies',\n",
       " 'highlighter',\n",
       " 'foodie',\n",
       " 'rashmi',\n",
       " '600rs',\n",
       " 'amout',\n",
       " 'prompted']"
      ]
     },
     "execution_count": 14,
     "metadata": {},
     "output_type": "execute_result"
    }
   ],
   "source": [
    "# creating a random sampler to show 10 feature names\n",
    "random.sample(sorted(feature_names),10)"
   ]
  },
  {
   "cell_type": "code",
   "execution_count": 15,
   "id": "b1c6f32e-4598-4f88-b23b-9326869825b0",
   "metadata": {
    "tags": []
   },
   "outputs": [
    {
     "data": {
      "text/plain": [
       "(60855, 27301)"
      ]
     },
     "execution_count": 15,
     "metadata": {},
     "output_type": "execute_result"
    }
   ],
   "source": [
    "# creating feature vector\n",
    "feature_vector = count_vector.transform(initData['Review_text'])\n",
    "feature_vector.shape"
   ]
  },
  {
   "cell_type": "markdown",
   "id": "f5439d27-38d9-4445-9bf7-0c21c6d0badf",
   "metadata": {
    "tags": []
   },
   "source": [
    "#### the above shows us all 60,855 documents, are represented by 27,301 features(unique words)\n",
    "> corresponding features will carry the number of times that word appeard in the document. If the word is not present then the feature gets a 0 value"
   ]
  },
  {
   "cell_type": "code",
   "execution_count": 16,
   "id": "ef723ae5-099a-4527-92d7-6f75300944c3",
   "metadata": {
    "tags": []
   },
   "outputs": [
    {
     "data": {
      "text/plain": [
       "1150642"
      ]
     },
     "execution_count": 16,
     "metadata": {},
     "output_type": "execute_result"
    }
   ],
   "source": [
    "# I need to find out of how many zeroes are in my feature vector\n",
    "feature_vector.getnnz()"
   ]
  },
  {
   "cell_type": "code",
   "execution_count": 17,
   "id": "fa052ee9-ca02-4588-aae4-75fa21c310d5",
   "metadata": {
    "tags": []
   },
   "outputs": [
    {
     "data": {
      "text/plain": [
       "0.0006925727512887749"
      ]
     },
     "execution_count": 17,
     "metadata": {},
     "output_type": "execute_result"
    }
   ],
   "source": [
    "# gets the non-zero value density in the document\n",
    "feature_vector.getnnz()/(feature_vector.shape[0]*feature_vector.shape[1])"
   ]
  },
  {
   "cell_type": "markdown",
   "id": "0feb4c24-70ff-4120-aaf2-75c85af10049",
   "metadata": {},
   "source": [
    "wayyy too many zeroes in my feature vector **sadnesss -_-**"
   ]
  },
  {
   "cell_type": "code",
   "execution_count": 18,
   "id": "9375907d-c514-4dda-9fdd-b42bc4f8d847",
   "metadata": {
    "tags": []
   },
   "outputs": [
    {
     "data": {
      "text/plain": [
       "matrix([[0, 0, 0, ..., 0, 0, 0],\n",
       "        [0, 0, 0, ..., 0, 0, 0],\n",
       "        [0, 0, 0, ..., 0, 0, 0],\n",
       "        ...,\n",
       "        [0, 0, 0, ..., 0, 0, 0],\n",
       "        [0, 0, 0, ..., 0, 0, 0],\n",
       "        [0, 0, 0, ..., 0, 0, 0]])"
      ]
     },
     "execution_count": 18,
     "metadata": {},
     "output_type": "execute_result"
    }
   ],
   "source": [
    "# show sparse matrix\n",
    "feature_vector.todense()"
   ]
  },
  {
   "cell_type": "markdown",
   "id": "bbd60894-d44f-4fd2-a951-668ad192882f",
   "metadata": {
    "tags": []
   },
   "source": [
    "#### need to fix the dataset before moving forward"
   ]
  },
  {
   "cell_type": "markdown",
   "id": "5f118073-595f-43db-bdb1-12d5b17d5a1d",
   "metadata": {
    "tags": []
   },
   "source": [
    "#### * getting rid of stopwords"
   ]
  },
  {
   "cell_type": "code",
   "execution_count": 19,
   "id": "01be077c-0b59-4da4-9132-9cb8d4789096",
   "metadata": {
    "tags": []
   },
   "outputs": [],
   "source": [
    "# create stopwords variable set to english\n",
    "all_stopwords = set(stopwords.words('english'))"
   ]
  },
  {
   "cell_type": "markdown",
   "id": "29a32e10-ba84-49b3-a9c0-6844eeb9c67a",
   "metadata": {},
   "source": [
    "#### do feature vector process again, using all_stopwords variable to remove the stopwords"
   ]
  },
  {
   "cell_type": "code",
   "execution_count": 20,
   "id": "77e101f4-2510-4e33-a193-ccd1dbecb3d4",
   "metadata": {
    "tags": []
   },
   "outputs": [],
   "source": [
    "count_vector2 = CountVectorizer(stop_words=list(all_stopwords))"
   ]
  },
  {
   "cell_type": "code",
   "execution_count": 21,
   "id": "06abe2e8-155b-4fff-9d04-cd74c1e54db8",
   "metadata": {
    "tags": []
   },
   "outputs": [],
   "source": [
    "feature_names2 = count_vector2.fit(initData['Review_text'])"
   ]
  },
  {
   "cell_type": "code",
   "execution_count": 22,
   "id": "6b3eed9b-ac2d-4579-ba95-5b6b8e191456",
   "metadata": {
    "tags": []
   },
   "outputs": [
    {
     "data": {
      "text/plain": [
       "(60855, 27159)"
      ]
     },
     "execution_count": 22,
     "metadata": {},
     "output_type": "execute_result"
    }
   ],
   "source": [
    "feature_vector2 = count_vector2.transform(initData['Review_text'])\n",
    "feature_vector2.shape"
   ]
  },
  {
   "cell_type": "markdown",
   "id": "1fff0fc4-9280-41a5-a5f7-8c76ce672832",
   "metadata": {},
   "source": [
    "#### the above shows us all 60,855 documents, are now represented by 27,159 features. **142 less with stop words removed\n",
    "> need to reduce more!"
   ]
  },
  {
   "cell_type": "code",
   "execution_count": 23,
   "id": "b1482a96-9221-4ea0-ab6f-7f5aa9c937ac",
   "metadata": {
    "tags": []
   },
   "outputs": [],
   "source": [
    "# make a df showing feature counts \n",
    "feature_names = feature_names2.get_feature_names_out()\n",
    "feature_counts = np.sum(feature_vector2.toarray(),axis = 0)\n",
    "featureCountDf = pd.DataFrame(dict(Features = feature_names, Count = feature_counts))"
   ]
  },
  {
   "cell_type": "code",
   "execution_count": 24,
   "id": "2f4745a5-fb85-4cfe-9aa0-b22e096c2ce3",
   "metadata": {
    "tags": []
   },
   "outputs": [
    {
     "data": {
      "text/html": [
       "<div>\n",
       "<style scoped>\n",
       "    .dataframe tbody tr th:only-of-type {\n",
       "        vertical-align: middle;\n",
       "    }\n",
       "\n",
       "    .dataframe tbody tr th {\n",
       "        vertical-align: top;\n",
       "    }\n",
       "\n",
       "    .dataframe thead th {\n",
       "        text-align: right;\n",
       "    }\n",
       "</style>\n",
       "<table border=\"1\" class=\"dataframe\">\n",
       "  <thead>\n",
       "    <tr style=\"text-align: right;\">\n",
       "      <th></th>\n",
       "      <th>Features</th>\n",
       "      <th>Count</th>\n",
       "    </tr>\n",
       "  </thead>\n",
       "  <tbody>\n",
       "    <tr>\n",
       "      <th>0</th>\n",
       "      <td>00</td>\n",
       "      <td>35</td>\n",
       "    </tr>\n",
       "    <tr>\n",
       "      <th>1</th>\n",
       "      <td>000</td>\n",
       "      <td>137</td>\n",
       "    </tr>\n",
       "    <tr>\n",
       "      <th>2</th>\n",
       "      <td>0008301163</td>\n",
       "      <td>1</td>\n",
       "    </tr>\n",
       "    <tr>\n",
       "      <th>3</th>\n",
       "      <td>0009001009009</td>\n",
       "      <td>2</td>\n",
       "    </tr>\n",
       "    <tr>\n",
       "      <th>4</th>\n",
       "      <td>000above</td>\n",
       "      <td>1</td>\n",
       "    </tr>\n",
       "    <tr>\n",
       "      <th>...</th>\n",
       "      <td>...</td>\n",
       "      <td>...</td>\n",
       "    </tr>\n",
       "    <tr>\n",
       "      <th>27154</th>\n",
       "      <td>áº</td>\n",
       "      <td>1</td>\n",
       "    </tr>\n",
       "    <tr>\n",
       "      <th>27155</th>\n",
       "      <td>â½</td>\n",
       "      <td>5</td>\n",
       "    </tr>\n",
       "    <tr>\n",
       "      <th>27156</th>\n",
       "      <td>ã²sm</td>\n",
       "      <td>1</td>\n",
       "    </tr>\n",
       "    <tr>\n",
       "      <th>27157</th>\n",
       "      <td>ð²î</td>\n",
       "      <td>1</td>\n",
       "    </tr>\n",
       "    <tr>\n",
       "      <th>27158</th>\n",
       "      <td>ð²ñ</td>\n",
       "      <td>1</td>\n",
       "    </tr>\n",
       "  </tbody>\n",
       "</table>\n",
       "<p>27159 rows × 2 columns</p>\n",
       "</div>"
      ],
      "text/plain": [
       "            Features  Count\n",
       "0                 00     35\n",
       "1                000    137\n",
       "2         0008301163      1\n",
       "3      0009001009009      2\n",
       "4           000above      1\n",
       "...              ...    ...\n",
       "27154             áº      1\n",
       "27155             â½      5\n",
       "27156           ã²sm      1\n",
       "27157            ð²î      1\n",
       "27158            ð²ñ      1\n",
       "\n",
       "[27159 rows x 2 columns]"
      ]
     },
     "execution_count": 24,
     "metadata": {},
     "output_type": "execute_result"
    }
   ],
   "source": [
    "featureCountDf"
   ]
  },
  {
   "cell_type": "code",
   "execution_count": 25,
   "id": "01c6a364-346e-43d0-a3d3-4f3a6fbd03d9",
   "metadata": {
    "tags": []
   },
   "outputs": [],
   "source": [
    "reviewsCopy = initData.copy()"
   ]
  },
  {
   "cell_type": "code",
   "execution_count": 26,
   "id": "f7b39865-f789-4301-9f17-57f650b4f4ea",
   "metadata": {
    "tags": []
   },
   "outputs": [],
   "source": [
    "# use regex to go through each document and look for mumbers and non-englisgh characters then replace them with a space\n",
    "sentences =[]\n",
    "for word in reviewsCopy.Review_text:\n",
    "    review = re.sub('[^a-zA-Z]',' ',word)\n",
    "    review = review.lower()\n",
    "    sentences.append(review)"
   ]
  },
  {
   "cell_type": "markdown",
   "id": "35573461-0e04-4fcb-b693-ad3f6a82f22f",
   "metadata": {
    "tags": []
   },
   "source": [
    "#### let's see the count difference in the feature vector now using sentences list"
   ]
  },
  {
   "cell_type": "code",
   "execution_count": 27,
   "id": "94b5b3bb-b812-4258-ad3c-5a73b087b82d",
   "metadata": {
    "tags": []
   },
   "outputs": [],
   "source": [
    "count_vector3 = CountVectorizer(stop_words=list(all_stopwords))"
   ]
  },
  {
   "cell_type": "code",
   "execution_count": 28,
   "id": "f23ed563-892b-4632-931a-ee5e5c08f022",
   "metadata": {
    "tags": []
   },
   "outputs": [],
   "source": [
    "feature_names3 = count_vector3.fit(sentences)"
   ]
  },
  {
   "cell_type": "code",
   "execution_count": 29,
   "id": "628a63cc-f1a4-499b-a814-1e2ca0a3953b",
   "metadata": {
    "tags": []
   },
   "outputs": [
    {
     "data": {
      "text/plain": [
       "(60855, 23477)"
      ]
     },
     "execution_count": 29,
     "metadata": {},
     "output_type": "execute_result"
    }
   ],
   "source": [
    "feature_vector3= count_vector3.transform(sentences)\n",
    "feature_vector3.shape"
   ]
  },
  {
   "cell_type": "markdown",
   "id": "6e478a5a-e896-4765-8c7a-1483fecd747c",
   "metadata": {
    "tags": []
   },
   "source": [
    "#### the above shows us all 60,855 documents, are now represented by 23,477 features. **3,824 less with stop words and non-english characters removed"
   ]
  },
  {
   "cell_type": "code",
   "execution_count": 30,
   "id": "6855e4b3-e095-4524-ada5-315999fa48b0",
   "metadata": {
    "tags": []
   },
   "outputs": [],
   "source": [
    "# make a df showing feature counts \n",
    "feature_names = feature_names3.get_feature_names_out()\n",
    "feature_counts = np.sum(feature_vector3.toarray(),axis = 0)\n",
    "featureCountDf = pd.DataFrame(dict(Features = feature_names, Count = feature_counts))"
   ]
  },
  {
   "cell_type": "code",
   "execution_count": 31,
   "id": "ffbf265d-95db-4447-ac3c-a15a655664d0",
   "metadata": {
    "tags": []
   },
   "outputs": [
    {
     "data": {
      "text/html": [
       "<div>\n",
       "<style scoped>\n",
       "    .dataframe tbody tr th:only-of-type {\n",
       "        vertical-align: middle;\n",
       "    }\n",
       "\n",
       "    .dataframe tbody tr th {\n",
       "        vertical-align: top;\n",
       "    }\n",
       "\n",
       "    .dataframe thead th {\n",
       "        text-align: right;\n",
       "    }\n",
       "</style>\n",
       "<table border=\"1\" class=\"dataframe\">\n",
       "  <thead>\n",
       "    <tr style=\"text-align: right;\">\n",
       "      <th></th>\n",
       "      <th>Features</th>\n",
       "      <th>Count</th>\n",
       "    </tr>\n",
       "  </thead>\n",
       "  <tbody>\n",
       "    <tr>\n",
       "      <th>0</th>\n",
       "      <td>aa</td>\n",
       "      <td>22</td>\n",
       "    </tr>\n",
       "    <tr>\n",
       "      <th>1</th>\n",
       "      <td>aaa</td>\n",
       "      <td>14</td>\n",
       "    </tr>\n",
       "    <tr>\n",
       "      <th>2</th>\n",
       "      <td>aaaamazing</td>\n",
       "      <td>1</td>\n",
       "    </tr>\n",
       "    <tr>\n",
       "      <th>3</th>\n",
       "      <td>aab</td>\n",
       "      <td>1</td>\n",
       "    </tr>\n",
       "    <tr>\n",
       "      <th>4</th>\n",
       "      <td>aacha</td>\n",
       "      <td>3</td>\n",
       "    </tr>\n",
       "    <tr>\n",
       "      <th>...</th>\n",
       "      <td>...</td>\n",
       "      <td>...</td>\n",
       "    </tr>\n",
       "    <tr>\n",
       "      <th>23472</th>\n",
       "      <td>zyaada</td>\n",
       "      <td>1</td>\n",
       "    </tr>\n",
       "    <tr>\n",
       "      <th>23473</th>\n",
       "      <td>zyada</td>\n",
       "      <td>4</td>\n",
       "    </tr>\n",
       "    <tr>\n",
       "      <th>23474</th>\n",
       "      <td>zyda</td>\n",
       "      <td>1</td>\n",
       "    </tr>\n",
       "    <tr>\n",
       "      <th>23475</th>\n",
       "      <td>zyming</td>\n",
       "      <td>1</td>\n",
       "    </tr>\n",
       "    <tr>\n",
       "      <th>23476</th>\n",
       "      <td>zzzzzz</td>\n",
       "      <td>1</td>\n",
       "    </tr>\n",
       "  </tbody>\n",
       "</table>\n",
       "<p>23477 rows × 2 columns</p>\n",
       "</div>"
      ],
      "text/plain": [
       "         Features  Count\n",
       "0              aa     22\n",
       "1             aaa     14\n",
       "2      aaaamazing      1\n",
       "3             aab      1\n",
       "4           aacha      3\n",
       "...           ...    ...\n",
       "23472      zyaada      1\n",
       "23473       zyada      4\n",
       "23474        zyda      1\n",
       "23475      zyming      1\n",
       "23476      zzzzzz      1\n",
       "\n",
       "[23477 rows x 2 columns]"
      ]
     },
     "execution_count": 31,
     "metadata": {},
     "output_type": "execute_result"
    }
   ],
   "source": [
    "# pd.set_option('display.max_columns', None)\n",
    "# pd.set_option('display.max_rows', None)\n",
    "featureCountDf"
   ]
  },
  {
   "cell_type": "markdown",
   "id": "0925d871-3a6a-47fa-b55d-14532d67a8c4",
   "metadata": {},
   "source": [
    "#### next step is to stem our documents"
   ]
  },
  {
   "cell_type": "code",
   "execution_count": 32,
   "id": "67afe8a4-d4ca-4457-b7f7-882e0d264b90",
   "metadata": {
    "tags": []
   },
   "outputs": [],
   "source": [
    "# create porterstemmer \n",
    "ps = PorterStemmer()"
   ]
  },
  {
   "cell_type": "code",
   "execution_count": 33,
   "id": "6580a4e9-7a39-488c-b5bc-18d34c2f43b9",
   "metadata": {
    "tags": []
   },
   "outputs": [],
   "source": [
    "# stem individual words and remove stopwords\n",
    "sentences_stemmed = []\n",
    "for texts in sentences:\n",
    "    reviews = [ps.stem(word) for word in texts.split() if not word in all_stopwords]\n",
    "    sentences_stemmed.append(' '.join(reviews))"
   ]
  },
  {
   "cell_type": "markdown",
   "id": "98c4b1f8-69ee-4ca1-9f75-2c9c17347186",
   "metadata": {},
   "source": [
    "#### let's get our new count"
   ]
  },
  {
   "cell_type": "code",
   "execution_count": 34,
   "id": "e5f33e3c-efe5-4fe0-a84f-c3ee3dfdf26c",
   "metadata": {
    "tags": []
   },
   "outputs": [],
   "source": [
    "count_vector4 = CountVectorizer()"
   ]
  },
  {
   "cell_type": "code",
   "execution_count": 35,
   "id": "c69352aa-131e-4285-a9f8-953a98d8698a",
   "metadata": {
    "tags": []
   },
   "outputs": [],
   "source": [
    "feature_names4 = count_vector4.fit(sentences_stemmed)"
   ]
  },
  {
   "cell_type": "code",
   "execution_count": 36,
   "id": "3f3a29bd-15b1-4c92-8626-11fd01871c23",
   "metadata": {
    "tags": []
   },
   "outputs": [
    {
     "data": {
      "text/plain": [
       "(60855, 16945)"
      ]
     },
     "execution_count": 36,
     "metadata": {},
     "output_type": "execute_result"
    }
   ],
   "source": [
    "feature_vector4= count_vector4.transform(sentences_stemmed)\n",
    "feature_vector4.shape"
   ]
  },
  {
   "cell_type": "markdown",
   "id": "f8053731-4bf5-426d-97d2-5f8629d31b74",
   "metadata": {},
   "source": [
    "#### the above shows us all 60,855 documents, are now represented by 16,945 features. **10,356 less with stop words removed"
   ]
  },
  {
   "cell_type": "markdown",
   "id": "dbab9af7-9c05-4ff9-b55f-13b0cce683d7",
   "metadata": {},
   "source": [
    "#### next steps are to lemmatize"
   ]
  },
  {
   "cell_type": "code",
   "execution_count": 37,
   "id": "986cae8f-34c3-4dfb-9be3-ef37ce10030a",
   "metadata": {
    "tags": []
   },
   "outputs": [],
   "source": [
    "# create lemmatizer object\n",
    "lemma = WordNetLemmatizer()"
   ]
  },
  {
   "cell_type": "code",
   "execution_count": 38,
   "id": "867138e3-d53b-4cf1-a50d-060ee05762d4",
   "metadata": {
    "tags": []
   },
   "outputs": [],
   "source": [
    "# lemmatize and remove stopwords\n",
    "sentences_lemma = []\n",
    "for texts in sentences:\n",
    "    reviews = [lemma.lemmatize(word) for word in texts.split() if not word in all_stopwords]\n",
    "    sentences_lemma.append(' '.join(reviews))"
   ]
  },
  {
   "cell_type": "markdown",
   "id": "c32a830d-ddfa-49cc-a7f0-876e4e52255f",
   "metadata": {},
   "source": [
    "#### time to create my vector again and see how I'm looking"
   ]
  },
  {
   "cell_type": "code",
   "execution_count": 39,
   "id": "ebe8898f-f1b6-4a51-b3dc-33f853762ce6",
   "metadata": {
    "tags": []
   },
   "outputs": [],
   "source": [
    "count_vector5 = CountVectorizer()"
   ]
  },
  {
   "cell_type": "code",
   "execution_count": 40,
   "id": "55f8c8a3-4d17-498e-9364-0e9f276c074b",
   "metadata": {
    "tags": []
   },
   "outputs": [],
   "source": [
    "feature_names5 = count_vector5.fit(sentences_lemma)"
   ]
  },
  {
   "cell_type": "code",
   "execution_count": 41,
   "id": "eeba6fa0-2711-4918-9ab0-5cd257c4319d",
   "metadata": {
    "tags": []
   },
   "outputs": [
    {
     "data": {
      "text/plain": [
       "(60855, 21612)"
      ]
     },
     "execution_count": 41,
     "metadata": {},
     "output_type": "execute_result"
    }
   ],
   "source": [
    "feature_vector5= count_vector5.transform(sentences_lemma)\n",
    "feature_vector5.shape"
   ]
  },
  {
   "cell_type": "markdown",
   "id": "f34e6bcf-e86f-4d42-8944-5e64ed2fba3d",
   "metadata": {},
   "source": [
    "#### the above shows us all 60,855 documents, are now represented by 21,612 features. **5,689 less with stop words removed and lemmatized.\n",
    "#### i'll be moving forward with porter stemmer"
   ]
  },
  {
   "cell_type": "code",
   "execution_count": 42,
   "id": "0e5388f9-d5d9-4a97-b132-9adbf59299bc",
   "metadata": {
    "tags": []
   },
   "outputs": [],
   "source": [
    "# creating function to do the cleaning process discovered here, and apply it to main dataframe\n",
    "def get_clean_text(df,col):\n",
    "    sentence = []\n",
    "    \n",
    "    for word in df[col][:]:\n",
    "        review = re.sub('[^a-zA-Z]',' ',word)\n",
    "        review = review.lower()\n",
    "        review = review.split()\n",
    "        review = [ps.stem(word) for word in review if not word in all_stopwords]\n",
    "        review = ' '.join(review)\n",
    "        sentence.append(review)\n",
    "        \n",
    "    return sentence"
   ]
  },
  {
   "cell_type": "code",
   "execution_count": 43,
   "id": "4da7f413-220f-4ee9-80fe-98d5b9a53feb",
   "metadata": {
    "tags": []
   },
   "outputs": [],
   "source": [
    "reviewsCopy['clean_text'] = get_clean_text(reviewsCopy,'Review_text' )"
   ]
  },
  {
   "cell_type": "markdown",
   "id": "5073fd6b-c641-4ea4-8892-d573904fd732",
   "metadata": {},
   "source": [
    "## classification part"
   ]
  },
  {
   "cell_type": "code",
   "execution_count": 44,
   "id": "48629c08-a682-44dd-b0de-541455b6515d",
   "metadata": {
    "tags": []
   },
   "outputs": [],
   "source": [
    "# get rid of neutral reviews\n",
    "reviewsCopy2 = reviewsCopy[reviewsCopy['Own_Rating']!='Neutral']"
   ]
  },
  {
   "cell_type": "code",
   "execution_count": 45,
   "id": "dfcf21f2-f800-4bb1-8758-37228b3033c1",
   "metadata": {
    "tags": []
   },
   "outputs": [],
   "source": [
    "# Replace all instances of the value 'positive' with the value 1\n",
    "reviewsCopy2 = reviewsCopy2.replace('Positive', 1)\n",
    "reviewsCopy2 = reviewsCopy2.replace('Negative', 0)"
   ]
  },
  {
   "cell_type": "code",
   "execution_count": 46,
   "id": "76356314-1d29-4f78-93bd-a7d42bb52e2d",
   "metadata": {
    "tags": []
   },
   "outputs": [
    {
     "data": {
      "text/html": [
       "<div>\n",
       "<style scoped>\n",
       "    .dataframe tbody tr th:only-of-type {\n",
       "        vertical-align: middle;\n",
       "    }\n",
       "\n",
       "    .dataframe tbody tr th {\n",
       "        vertical-align: top;\n",
       "    }\n",
       "\n",
       "    .dataframe thead th {\n",
       "        text-align: right;\n",
       "    }\n",
       "</style>\n",
       "<table border=\"1\" class=\"dataframe\">\n",
       "  <thead>\n",
       "    <tr style=\"text-align: right;\">\n",
       "      <th></th>\n",
       "      <th>Unique_ID</th>\n",
       "      <th>Category</th>\n",
       "      <th>Review_Header</th>\n",
       "      <th>Review_text</th>\n",
       "      <th>Rating</th>\n",
       "      <th>Own_Rating</th>\n",
       "      <th>clean_text</th>\n",
       "    </tr>\n",
       "  </thead>\n",
       "  <tbody>\n",
       "    <tr>\n",
       "      <th>0</th>\n",
       "      <td>136040</td>\n",
       "      <td>smartTv</td>\n",
       "      <td>Nice one</td>\n",
       "      <td>I liked it</td>\n",
       "      <td>5</td>\n",
       "      <td>1</td>\n",
       "      <td>like</td>\n",
       "    </tr>\n",
       "    <tr>\n",
       "      <th>1</th>\n",
       "      <td>134236</td>\n",
       "      <td>mobile</td>\n",
       "      <td>Huge battery life with amazing display</td>\n",
       "      <td>I bought the phone on Amazon and been using my...</td>\n",
       "      <td>5</td>\n",
       "      <td>1</td>\n",
       "      <td>bought phone amazon use samsung coupl week del...</td>\n",
       "    </tr>\n",
       "    <tr>\n",
       "      <th>2</th>\n",
       "      <td>113945</td>\n",
       "      <td>books</td>\n",
       "      <td>Four Stars</td>\n",
       "      <td>Awesome book at reasonable price, must buy ......</td>\n",
       "      <td>4</td>\n",
       "      <td>1</td>\n",
       "      <td>awesom book reason price must buy</td>\n",
       "    </tr>\n",
       "    <tr>\n",
       "      <th>3</th>\n",
       "      <td>168076</td>\n",
       "      <td>smartTv</td>\n",
       "      <td>Nice quality</td>\n",
       "      <td>good</td>\n",
       "      <td>5</td>\n",
       "      <td>1</td>\n",
       "      <td>good</td>\n",
       "    </tr>\n",
       "    <tr>\n",
       "      <th>5</th>\n",
       "      <td>146539</td>\n",
       "      <td>smartTv</td>\n",
       "      <td>Nice tv</td>\n",
       "      <td>Nice tv and pic quality .good custmer srrvice ...</td>\n",
       "      <td>5</td>\n",
       "      <td>1</td>\n",
       "      <td>nice tv pic qualiti good custmer srrvice tv in...</td>\n",
       "    </tr>\n",
       "  </tbody>\n",
       "</table>\n",
       "</div>"
      ],
      "text/plain": [
       "   Unique_ID Category                           Review_Header  \\\n",
       "0     136040  smartTv                                Nice one   \n",
       "1     134236   mobile  Huge battery life with amazing display   \n",
       "2     113945    books                              Four Stars   \n",
       "3     168076  smartTv                            Nice quality   \n",
       "5     146539  smartTv                                 Nice tv   \n",
       "\n",
       "                                         Review_text  Rating  Own_Rating  \\\n",
       "0                                         I liked it       5           1   \n",
       "1  I bought the phone on Amazon and been using my...       5           1   \n",
       "2  Awesome book at reasonable price, must buy ......       4           1   \n",
       "3                                               good       5           1   \n",
       "5  Nice tv and pic quality .good custmer srrvice ...       5           1   \n",
       "\n",
       "                                          clean_text  \n",
       "0                                               like  \n",
       "1  bought phone amazon use samsung coupl week del...  \n",
       "2                  awesom book reason price must buy  \n",
       "3                                               good  \n",
       "5  nice tv pic qualiti good custmer srrvice tv in...  "
      ]
     },
     "execution_count": 46,
     "metadata": {},
     "output_type": "execute_result"
    }
   ],
   "source": [
    "reviewsCopy2.head()"
   ]
  },
  {
   "cell_type": "code",
   "execution_count": 47,
   "id": "b891b656-4b16-4f6e-896b-7a386cc6411a",
   "metadata": {
    "tags": []
   },
   "outputs": [],
   "source": [
    "# time to vectorize again! \n",
    "cv = CountVectorizer()\n",
    "features = cv.fit_transform(reviewsCopy2['clean_text'])"
   ]
  },
  {
   "cell_type": "code",
   "execution_count": 48,
   "id": "7e02d862-6d3f-473b-90f2-d12170386133",
   "metadata": {
    "tags": []
   },
   "outputs": [],
   "source": [
    "#splitting the dataset into train and test\n",
    "x = features.toarray()\n",
    "y = reviewsCopy2['Own_Rating']\n",
    "from sklearn.model_selection import train_test_split\n",
    "x_train, x_test, y_train, y_test = train_test_split(x, y, test_size = 0.10, random_state = 42)"
   ]
  },
  {
   "cell_type": "code",
   "execution_count": 49,
   "id": "94542670-32d8-4f95-82f3-e984eb1f0fa5",
   "metadata": {
    "tags": []
   },
   "outputs": [
    {
     "data": {
      "text/html": [
       "<style>#sk-container-id-1 {color: black;}#sk-container-id-1 pre{padding: 0;}#sk-container-id-1 div.sk-toggleable {background-color: white;}#sk-container-id-1 label.sk-toggleable__label {cursor: pointer;display: block;width: 100%;margin-bottom: 0;padding: 0.3em;box-sizing: border-box;text-align: center;}#sk-container-id-1 label.sk-toggleable__label-arrow:before {content: \"▸\";float: left;margin-right: 0.25em;color: #696969;}#sk-container-id-1 label.sk-toggleable__label-arrow:hover:before {color: black;}#sk-container-id-1 div.sk-estimator:hover label.sk-toggleable__label-arrow:before {color: black;}#sk-container-id-1 div.sk-toggleable__content {max-height: 0;max-width: 0;overflow: hidden;text-align: left;background-color: #f0f8ff;}#sk-container-id-1 div.sk-toggleable__content pre {margin: 0.2em;color: black;border-radius: 0.25em;background-color: #f0f8ff;}#sk-container-id-1 input.sk-toggleable__control:checked~div.sk-toggleable__content {max-height: 200px;max-width: 100%;overflow: auto;}#sk-container-id-1 input.sk-toggleable__control:checked~label.sk-toggleable__label-arrow:before {content: \"▾\";}#sk-container-id-1 div.sk-estimator input.sk-toggleable__control:checked~label.sk-toggleable__label {background-color: #d4ebff;}#sk-container-id-1 div.sk-label input.sk-toggleable__control:checked~label.sk-toggleable__label {background-color: #d4ebff;}#sk-container-id-1 input.sk-hidden--visually {border: 0;clip: rect(1px 1px 1px 1px);clip: rect(1px, 1px, 1px, 1px);height: 1px;margin: -1px;overflow: hidden;padding: 0;position: absolute;width: 1px;}#sk-container-id-1 div.sk-estimator {font-family: monospace;background-color: #f0f8ff;border: 1px dotted black;border-radius: 0.25em;box-sizing: border-box;margin-bottom: 0.5em;}#sk-container-id-1 div.sk-estimator:hover {background-color: #d4ebff;}#sk-container-id-1 div.sk-parallel-item::after {content: \"\";width: 100%;border-bottom: 1px solid gray;flex-grow: 1;}#sk-container-id-1 div.sk-label:hover label.sk-toggleable__label {background-color: #d4ebff;}#sk-container-id-1 div.sk-serial::before {content: \"\";position: absolute;border-left: 1px solid gray;box-sizing: border-box;top: 0;bottom: 0;left: 50%;z-index: 0;}#sk-container-id-1 div.sk-serial {display: flex;flex-direction: column;align-items: center;background-color: white;padding-right: 0.2em;padding-left: 0.2em;position: relative;}#sk-container-id-1 div.sk-item {position: relative;z-index: 1;}#sk-container-id-1 div.sk-parallel {display: flex;align-items: stretch;justify-content: center;background-color: white;position: relative;}#sk-container-id-1 div.sk-item::before, #sk-container-id-1 div.sk-parallel-item::before {content: \"\";position: absolute;border-left: 1px solid gray;box-sizing: border-box;top: 0;bottom: 0;left: 50%;z-index: -1;}#sk-container-id-1 div.sk-parallel-item {display: flex;flex-direction: column;z-index: 1;position: relative;background-color: white;}#sk-container-id-1 div.sk-parallel-item:first-child::after {align-self: flex-end;width: 50%;}#sk-container-id-1 div.sk-parallel-item:last-child::after {align-self: flex-start;width: 50%;}#sk-container-id-1 div.sk-parallel-item:only-child::after {width: 0;}#sk-container-id-1 div.sk-dashed-wrapped {border: 1px dashed gray;margin: 0 0.4em 0.5em 0.4em;box-sizing: border-box;padding-bottom: 0.4em;background-color: white;}#sk-container-id-1 div.sk-label label {font-family: monospace;font-weight: bold;display: inline-block;line-height: 1.2em;}#sk-container-id-1 div.sk-label-container {text-align: center;}#sk-container-id-1 div.sk-container {/* jupyter's `normalize.less` sets `[hidden] { display: none; }` but bootstrap.min.css set `[hidden] { display: none !important; }` so we also need the `!important` here to be able to override the default hidden behavior on the sphinx rendered scikit-learn.org. See: https://github.com/scikit-learn/scikit-learn/issues/21755 */display: inline-block !important;position: relative;}#sk-container-id-1 div.sk-text-repr-fallback {display: none;}</style><div id=\"sk-container-id-1\" class=\"sk-top-container\"><div class=\"sk-text-repr-fallback\"><pre>GaussianNB()</pre><b>In a Jupyter environment, please rerun this cell to show the HTML representation or trust the notebook. <br />On GitHub, the HTML representation is unable to render, please try loading this page with nbviewer.org.</b></div><div class=\"sk-container\" hidden><div class=\"sk-item\"><div class=\"sk-estimator sk-toggleable\"><input class=\"sk-toggleable__control sk-hidden--visually\" id=\"sk-estimator-id-1\" type=\"checkbox\" checked><label for=\"sk-estimator-id-1\" class=\"sk-toggleable__label sk-toggleable__label-arrow\">GaussianNB</label><div class=\"sk-toggleable__content\"><pre>GaussianNB()</pre></div></div></div></div></div>"
      ],
      "text/plain": [
       "GaussianNB()"
      ]
     },
     "execution_count": 49,
     "metadata": {},
     "output_type": "execute_result"
    }
   ],
   "source": [
    "# build and train the GaussianNB model\n",
    "classifier = GaussianNB()\n",
    "classifier.fit(x_train, y_train)"
   ]
  },
  {
   "cell_type": "code",
   "execution_count": 50,
   "id": "7ec8d283-c0c1-4232-a356-1ae37349a1df",
   "metadata": {
    "tags": []
   },
   "outputs": [],
   "source": [
    "# test the model\n",
    "y_pred = classifier.predict(x_test)"
   ]
  },
  {
   "cell_type": "code",
   "execution_count": 51,
   "id": "0d73bc53-3cac-4b48-a563-d99e000e789d",
   "metadata": {
    "tags": []
   },
   "outputs": [
    {
     "name": "stdout",
     "output_type": "stream",
     "text": [
      "[[ 814  110]\n",
      " [4019  707]]\n"
     ]
    }
   ],
   "source": [
    "# let's see those results\n",
    "cm = confusion_matrix(y_test, y_pred)\n",
    "print(cm)\n"
   ]
  },
  {
   "cell_type": "code",
   "execution_count": 52,
   "id": "7d508830-e3f0-4236-baf4-65f9b7320975",
   "metadata": {
    "tags": []
   },
   "outputs": [
    {
     "data": {
      "text/plain": [
       "0.269"
      ]
     },
     "execution_count": 52,
     "metadata": {},
     "output_type": "execute_result"
    }
   ],
   "source": [
    "round(accuracy_score(y_test, y_pred), 3)"
   ]
  },
  {
   "cell_type": "markdown",
   "id": "6f23ad91-1c80-4ffd-af35-084943d47294",
   "metadata": {},
   "source": [
    "#### there are 4019 false negatives -_- and i have a 26% accuracy score. Horrible "
   ]
  },
  {
   "cell_type": "code",
   "execution_count": null,
   "id": "0665a277-d287-4d04-9d88-8ced41bc78cc",
   "metadata": {
    "tags": []
   },
   "outputs": [],
   "source": [
    "y_pred_train = classifier.predict(x_train)"
   ]
  },
  {
   "cell_type": "code",
   "execution_count": null,
   "id": "8df4cd69-3088-4d46-a621-97c5e689ee61",
   "metadata": {},
   "outputs": [],
   "source": [
    "round(accuracy_score(y_train, y_pred_train), 3)"
   ]
  },
  {
   "cell_type": "code",
   "execution_count": null,
   "id": "052ea156-b2e2-462b-81a3-f2485ee938ca",
   "metadata": {},
   "outputs": [],
   "source": []
  }
 ],
 "metadata": {
  "kernelspec": {
   "display_name": "Python 3 (ipykernel)",
   "language": "python",
   "name": "python3"
  },
  "language_info": {
   "codemirror_mode": {
    "name": "ipython",
    "version": 3
   },
   "file_extension": ".py",
   "mimetype": "text/x-python",
   "name": "python",
   "nbconvert_exporter": "python",
   "pygments_lexer": "ipython3",
   "version": "3.11.5"
  }
 },
 "nbformat": 4,
 "nbformat_minor": 5
}
