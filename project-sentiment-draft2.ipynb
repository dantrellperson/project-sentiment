{
 "cells": [
  {
   "cell_type": "code",
   "execution_count": 1,
   "id": "cb501d19-1534-4d12-829d-bce288e4ed19",
   "metadata": {},
   "outputs": [],
   "source": [
    "# import dependencies\n",
    "import pandas as pd\n",
    "import numpy as np\n",
    "import matplotlib.pyplot as plt\n",
    "import demoji\n",
    "import string\n",
    "import nltk\n",
    "from nltk.corpus import stopwords"
   ]
  },
  {
   "cell_type": "code",
   "execution_count": 2,
   "id": "d8b014d0-b67a-4d85-9cbb-60524c8a6957",
   "metadata": {},
   "outputs": [],
   "source": [
    "# import dataset\n",
    "amazonReviews = pd.read_csv('resources/Amazon Review Data Web Scrapping - Amazon Review Data Web Scrapping.csv')"
   ]
  },
  {
   "cell_type": "markdown",
   "id": "31a357e3-7192-4904-91fa-856722cc63a5",
   "metadata": {},
   "source": [
    "# Data Exploration"
   ]
  },
  {
   "cell_type": "code",
   "execution_count": 3,
   "id": "c4eda0ab-255d-4215-8359-2f47798a68c1",
   "metadata": {
    "scrolled": true
   },
   "outputs": [
    {
     "name": "stdout",
     "output_type": "stream",
     "text": [
      "<class 'pandas.core.frame.DataFrame'>\n",
      "RangeIndex: 60889 entries, 0 to 60888\n",
      "Data columns (total 6 columns):\n",
      " #   Column         Non-Null Count  Dtype \n",
      "---  ------         --------------  ----- \n",
      " 0   Unique_ID      60889 non-null  int64 \n",
      " 1   Category       60889 non-null  object\n",
      " 2   Review_Header  60884 non-null  object\n",
      " 3   Review_text    60857 non-null  object\n",
      " 4   Rating         60889 non-null  int64 \n",
      " 5   Own_Rating     60889 non-null  object\n",
      "dtypes: int64(2), object(4)\n",
      "memory usage: 2.8+ MB\n"
     ]
    }
   ],
   "source": [
    "# get some basic info about dataset\n",
    "amazonReviews.info()"
   ]
  },
  {
   "cell_type": "code",
   "execution_count": 4,
   "id": "825422fe-d40c-4e60-8cdd-4f878b71ee4c",
   "metadata": {
    "scrolled": true
   },
   "outputs": [
    {
     "data": {
      "text/html": [
       "<div>\n",
       "<style scoped>\n",
       "    .dataframe tbody tr th:only-of-type {\n",
       "        vertical-align: middle;\n",
       "    }\n",
       "\n",
       "    .dataframe tbody tr th {\n",
       "        vertical-align: top;\n",
       "    }\n",
       "\n",
       "    .dataframe thead th {\n",
       "        text-align: right;\n",
       "    }\n",
       "</style>\n",
       "<table border=\"1\" class=\"dataframe\">\n",
       "  <thead>\n",
       "    <tr style=\"text-align: right;\">\n",
       "      <th></th>\n",
       "      <th>Unique_ID</th>\n",
       "      <th>Category</th>\n",
       "      <th>Review_Header</th>\n",
       "      <th>Review_text</th>\n",
       "      <th>Rating</th>\n",
       "      <th>Own_Rating</th>\n",
       "    </tr>\n",
       "  </thead>\n",
       "  <tbody>\n",
       "    <tr>\n",
       "      <th>0</th>\n",
       "      <td>136040</td>\n",
       "      <td>smartTv</td>\n",
       "      <td>Nice one</td>\n",
       "      <td>I liked it</td>\n",
       "      <td>5</td>\n",
       "      <td>Positive</td>\n",
       "    </tr>\n",
       "    <tr>\n",
       "      <th>1</th>\n",
       "      <td>134236</td>\n",
       "      <td>mobile</td>\n",
       "      <td>Huge battery life with amazing display</td>\n",
       "      <td>I bought the phone on Amazon and been using my...</td>\n",
       "      <td>5</td>\n",
       "      <td>Positive</td>\n",
       "    </tr>\n",
       "    <tr>\n",
       "      <th>2</th>\n",
       "      <td>113945</td>\n",
       "      <td>books</td>\n",
       "      <td>Four Stars</td>\n",
       "      <td>Awesome book at reasonable price, must buy ......</td>\n",
       "      <td>4</td>\n",
       "      <td>Positive</td>\n",
       "    </tr>\n",
       "  </tbody>\n",
       "</table>\n",
       "</div>"
      ],
      "text/plain": [
       "   Unique_ID Category                           Review_Header  \\\n",
       "0     136040  smartTv                                Nice one   \n",
       "1     134236   mobile  Huge battery life with amazing display   \n",
       "2     113945    books                              Four Stars   \n",
       "\n",
       "                                         Review_text  Rating Own_Rating  \n",
       "0                                         I liked it       5   Positive  \n",
       "1  I bought the phone on Amazon and been using my...       5   Positive  \n",
       "2  Awesome book at reasonable price, must buy ......       4   Positive  "
      ]
     },
     "execution_count": 4,
     "metadata": {},
     "output_type": "execute_result"
    }
   ],
   "source": [
    "# view a few rows\n",
    "amazonReviews.head(3)"
   ]
  },
  {
   "cell_type": "markdown",
   "id": "bc411bc7-9ca3-4a25-bdbf-cfb6e6d37955",
   "metadata": {},
   "source": [
    "## make a smaller sample of the main dataset (5000 rows)"
   ]
  },
  {
   "cell_type": "code",
   "execution_count": 5,
   "id": "eabd4c10-8c0e-47c3-b798-9282cdfb1def",
   "metadata": {},
   "outputs": [],
   "source": [
    "# make a smaller sample of the data to test on\n",
    "sampleAmazon1 = amazonReviews.sample(n=5000,random_state=1)"
   ]
  },
  {
   "cell_type": "code",
   "execution_count": null,
   "id": "507e0578-c521-4090-88cd-616a05c3916c",
   "metadata": {},
   "outputs": [],
   "source": []
  },
  {
   "cell_type": "markdown",
   "id": "f59b91ef-48cc-4c4f-b9d6-f80a6a04b66e",
   "metadata": {},
   "source": [
    "# Preprocess sample dataset"
   ]
  },
  {
   "cell_type": "code",
   "execution_count": 6,
   "id": "74059504-f1f4-43bf-a2cb-089d136e2cab",
   "metadata": {},
   "outputs": [],
   "source": [
    "def preprocess_reviews(df, text_column='Review_text'):\n",
    "    \"\"\"\n",
    "    preprocess texts within a dataFrame.\n",
    "\n",
    "    parameters:\n",
    "    - df: pandas dataframe containing the review texts.\n",
    "    - text_column: the name of the column containing the review texts.\n",
    "\n",
    "    returns:\n",
    "    - dataFrame with an additional column 'preprocessed_Review_text' for the preprocessed texts.\n",
    "    \"\"\"\n",
    "    preprocessed_texts = []\n",
    "\n",
    "    for text in df[text_column]:\n",
    "        # Ensure text is a string\n",
    "        text = str(text)\n",
    "        # Lowercase the text\n",
    "        text = text.lower()\n",
    "        # Remove emojis\n",
    "        text = demoji.replace(text, \"\")\n",
    "        # Remove punctuation\n",
    "        text = text.translate(str.maketrans('', '', string.punctuation))\n",
    "        # Remove stopwords\n",
    "        text = ' '.join([word for word in text.split() if word not in stop_words])\n",
    "        preprocessed_texts.append(text)\n",
    "    \n",
    "    # Add the preprocessed texts as a new column in the DataFrame\n",
    "    df['preprocessed_' + text_column] = preprocessed_texts\n",
    "\n",
    "    return df"
   ]
  },
  {
   "cell_type": "code",
   "execution_count": 7,
   "id": "b15db354-7155-41df-818e-2caa3641b02b",
   "metadata": {},
   "outputs": [],
   "source": [
    "# Initialize stopwords set\n",
    "stop_words = set(stopwords.words('english'))"
   ]
  },
  {
   "cell_type": "code",
   "execution_count": 8,
   "id": "fb5a9a43-3b61-426b-bbeb-ffd2bd45160f",
   "metadata": {},
   "outputs": [
    {
     "name": "stderr",
     "output_type": "stream",
     "text": [
      "/var/folders/4b/ltxykyrn7j9bt96tg5cjy76h0000gn/T/ipykernel_24086/2435728824.py:2: FutureWarning: The demoji.download_codes attribute is deprecated and will be removed from demoji in a future version. It is an unused attribute as emoji codes are now distributed directly with the demoji package.\n",
      "  demoji.download_codes()\n"
     ]
    }
   ],
   "source": [
    "# Remove emojis\n",
    "demoji.download_codes()"
   ]
  },
  {
   "cell_type": "code",
   "execution_count": 9,
   "id": "49838f99-ba75-4b96-808b-ebf213cf180f",
   "metadata": {},
   "outputs": [],
   "source": [
    "# Process the DataFrame\n",
    "df_processed = preprocess_reviews(sampleAmazon1)"
   ]
  },
  {
   "cell_type": "code",
   "execution_count": 10,
   "id": "0f74b5f0-8ba3-4cd4-999e-21e64e8d6eaa",
   "metadata": {},
   "outputs": [
    {
     "data": {
      "text/html": [
       "<div>\n",
       "<style scoped>\n",
       "    .dataframe tbody tr th:only-of-type {\n",
       "        vertical-align: middle;\n",
       "    }\n",
       "\n",
       "    .dataframe tbody tr th {\n",
       "        vertical-align: top;\n",
       "    }\n",
       "\n",
       "    .dataframe thead th {\n",
       "        text-align: right;\n",
       "    }\n",
       "</style>\n",
       "<table border=\"1\" class=\"dataframe\">\n",
       "  <thead>\n",
       "    <tr style=\"text-align: right;\">\n",
       "      <th></th>\n",
       "      <th>Unique_ID</th>\n",
       "      <th>Category</th>\n",
       "      <th>Review_Header</th>\n",
       "      <th>Review_text</th>\n",
       "      <th>Rating</th>\n",
       "      <th>Own_Rating</th>\n",
       "      <th>preprocessed_Review_text</th>\n",
       "    </tr>\n",
       "  </thead>\n",
       "  <tbody>\n",
       "    <tr>\n",
       "      <th>50555</th>\n",
       "      <td>162609</td>\n",
       "      <td>mobile</td>\n",
       "      <td>iPhone XR just brilliant in every way !!!✌️✌️</td>\n",
       "      <td>Very beautiful phone...very long battery life,...</td>\n",
       "      <td>5</td>\n",
       "      <td>Positive</td>\n",
       "      <td>beautiful phonevery long battery life superb c...</td>\n",
       "    </tr>\n",
       "    <tr>\n",
       "      <th>4164</th>\n",
       "      <td>110155</td>\n",
       "      <td>mobile accessories</td>\n",
       "      <td>Awesome smartphone😘😘</td>\n",
       "      <td>1. Bright &amp; colourful display 👍 2. Super smoot...</td>\n",
       "      <td>4</td>\n",
       "      <td>Positive</td>\n",
       "      <td>1 bright colourful display 2 super smooth proc...</td>\n",
       "    </tr>\n",
       "    <tr>\n",
       "      <th>33565</th>\n",
       "      <td>165995</td>\n",
       "      <td>mobile</td>\n",
       "      <td>Worst Sensor &amp; Micro phone</td>\n",
       "      <td>Worst Sensor &amp; Micro phone....</td>\n",
       "      <td>1</td>\n",
       "      <td>Negative</td>\n",
       "      <td>worst sensor micro phone</td>\n",
       "    </tr>\n",
       "    <tr>\n",
       "      <th>58243</th>\n",
       "      <td>141410</td>\n",
       "      <td>refrigerator</td>\n",
       "      <td>Installation pending</td>\n",
       "      <td>LED TV RECEIVED. INSTALLATION PENDING. PLS ARR...</td>\n",
       "      <td>2</td>\n",
       "      <td>Negative</td>\n",
       "      <td>led tv received installation pending pls arrange</td>\n",
       "    </tr>\n",
       "    <tr>\n",
       "      <th>6670</th>\n",
       "      <td>144360</td>\n",
       "      <td>mobile</td>\n",
       "      <td>Very nice product</td>\n",
       "      <td>Nice</td>\n",
       "      <td>5</td>\n",
       "      <td>Positive</td>\n",
       "      <td>nice</td>\n",
       "    </tr>\n",
       "    <tr>\n",
       "      <th>...</th>\n",
       "      <td>...</td>\n",
       "      <td>...</td>\n",
       "      <td>...</td>\n",
       "      <td>...</td>\n",
       "      <td>...</td>\n",
       "      <td>...</td>\n",
       "      <td>...</td>\n",
       "    </tr>\n",
       "    <tr>\n",
       "      <th>41395</th>\n",
       "      <td>163934</td>\n",
       "      <td>smartTv</td>\n",
       "      <td>Super good</td>\n",
       "      <td>Very nice</td>\n",
       "      <td>5</td>\n",
       "      <td>Positive</td>\n",
       "      <td>nice</td>\n",
       "    </tr>\n",
       "    <tr>\n",
       "      <th>58350</th>\n",
       "      <td>122796</td>\n",
       "      <td>refrigerator</td>\n",
       "      <td>Excellent camera</td>\n",
       "      <td>Excellent product</td>\n",
       "      <td>5</td>\n",
       "      <td>Positive</td>\n",
       "      <td>excellent product</td>\n",
       "    </tr>\n",
       "    <tr>\n",
       "      <th>9598</th>\n",
       "      <td>139342</td>\n",
       "      <td>mobile accessories</td>\n",
       "      <td>Great phone!</td>\n",
       "      <td>It's a midrange smartphone. The screen is big ...</td>\n",
       "      <td>5</td>\n",
       "      <td>Positive</td>\n",
       "      <td>midrange smartphone screen big clear picture q...</td>\n",
       "    </tr>\n",
       "    <tr>\n",
       "      <th>1900</th>\n",
       "      <td>122341</td>\n",
       "      <td>books</td>\n",
       "      <td>Very informative. Awesome and simple to unders...</td>\n",
       "      <td>Excellent book by the author on the importance...</td>\n",
       "      <td>5</td>\n",
       "      <td>Positive</td>\n",
       "      <td>excellent book author importance financial lit...</td>\n",
       "    </tr>\n",
       "    <tr>\n",
       "      <th>16259</th>\n",
       "      <td>138565</td>\n",
       "      <td>smartTv</td>\n",
       "      <td>Just perfect partner for outdoor music!!</td>\n",
       "      <td>It is better than your TV's inbuilt speaker. I...</td>\n",
       "      <td>4</td>\n",
       "      <td>Positive</td>\n",
       "      <td>better tvs inbuilt speaker loud enough wake ne...</td>\n",
       "    </tr>\n",
       "  </tbody>\n",
       "</table>\n",
       "<p>5000 rows × 7 columns</p>\n",
       "</div>"
      ],
      "text/plain": [
       "       Unique_ID            Category  \\\n",
       "50555     162609              mobile   \n",
       "4164      110155  mobile accessories   \n",
       "33565     165995              mobile   \n",
       "58243     141410        refrigerator   \n",
       "6670      144360              mobile   \n",
       "...          ...                 ...   \n",
       "41395     163934             smartTv   \n",
       "58350     122796        refrigerator   \n",
       "9598      139342  mobile accessories   \n",
       "1900      122341               books   \n",
       "16259     138565             smartTv   \n",
       "\n",
       "                                           Review_Header  \\\n",
       "50555      iPhone XR just brilliant in every way !!!✌️✌️   \n",
       "4164                                Awesome smartphone😘😘   \n",
       "33565                         Worst Sensor & Micro phone   \n",
       "58243                               Installation pending   \n",
       "6670                                   Very nice product   \n",
       "...                                                  ...   \n",
       "41395                                         Super good   \n",
       "58350                                   Excellent camera   \n",
       "9598                                        Great phone!   \n",
       "1900   Very informative. Awesome and simple to unders...   \n",
       "16259           Just perfect partner for outdoor music!!   \n",
       "\n",
       "                                             Review_text  Rating Own_Rating  \\\n",
       "50555  Very beautiful phone...very long battery life,...       5   Positive   \n",
       "4164   1. Bright & colourful display 👍 2. Super smoot...       4   Positive   \n",
       "33565                     Worst Sensor & Micro phone....       1   Negative   \n",
       "58243  LED TV RECEIVED. INSTALLATION PENDING. PLS ARR...       2   Negative   \n",
       "6670                                                Nice       5   Positive   \n",
       "...                                                  ...     ...        ...   \n",
       "41395                                          Very nice       5   Positive   \n",
       "58350                                  Excellent product       5   Positive   \n",
       "9598   It's a midrange smartphone. The screen is big ...       5   Positive   \n",
       "1900   Excellent book by the author on the importance...       5   Positive   \n",
       "16259  It is better than your TV's inbuilt speaker. I...       4   Positive   \n",
       "\n",
       "                                preprocessed_Review_text  \n",
       "50555  beautiful phonevery long battery life superb c...  \n",
       "4164   1 bright colourful display 2 super smooth proc...  \n",
       "33565                           worst sensor micro phone  \n",
       "58243   led tv received installation pending pls arrange  \n",
       "6670                                                nice  \n",
       "...                                                  ...  \n",
       "41395                                               nice  \n",
       "58350                                  excellent product  \n",
       "9598   midrange smartphone screen big clear picture q...  \n",
       "1900   excellent book author importance financial lit...  \n",
       "16259  better tvs inbuilt speaker loud enough wake ne...  \n",
       "\n",
       "[5000 rows x 7 columns]"
      ]
     },
     "execution_count": 10,
     "metadata": {},
     "output_type": "execute_result"
    }
   ],
   "source": [
    "df_processed"
   ]
  }
 ],
 "metadata": {
  "kernelspec": {
   "display_name": "projectSentiment",
   "language": "python",
   "name": "projectsentiment"
  },
  "language_info": {
   "codemirror_mode": {
    "name": "ipython",
    "version": 3
   },
   "file_extension": ".py",
   "mimetype": "text/x-python",
   "name": "python",
   "nbconvert_exporter": "python",
   "pygments_lexer": "ipython3",
   "version": "3.11.5"
  }
 },
 "nbformat": 4,
 "nbformat_minor": 5
}
