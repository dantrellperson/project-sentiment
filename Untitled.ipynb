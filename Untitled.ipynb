{
 "cells": [
  {
   "cell_type": "code",
   "execution_count": 6,
   "id": "cb501d19-1534-4d12-829d-bce288e4ed19",
   "metadata": {},
   "outputs": [],
   "source": [
    "# import dependencies\n",
    "import pandas as pd\n",
    "import numpy as np\n",
    "import matplotlib.pyplot as plt\n",
    "import demoji\n",
    "import string\n",
    "import nltk\n",
    "from nltk.corpus import stopwords"
   ]
  },
  {
   "cell_type": "code",
   "execution_count": 7,
   "id": "d8b014d0-b67a-4d85-9cbb-60524c8a6957",
   "metadata": {},
   "outputs": [],
   "source": [
    "# import dataset\n",
    "amazonReviews = pd.read_csv('resources/Amazon Review Data Web Scrapping - Amazon Review Data Web Scrapping.csv')"
   ]
  },
  {
   "cell_type": "markdown",
   "id": "31a357e3-7192-4904-91fa-856722cc63a5",
   "metadata": {},
   "source": [
    "# Data Exploration"
   ]
  },
  {
   "cell_type": "code",
   "execution_count": 4,
   "id": "c4eda0ab-255d-4215-8359-2f47798a68c1",
   "metadata": {
    "scrolled": true
   },
   "outputs": [
    {
     "name": "stdout",
     "output_type": "stream",
     "text": [
      "<class 'pandas.core.frame.DataFrame'>\n",
      "RangeIndex: 60889 entries, 0 to 60888\n",
      "Data columns (total 6 columns):\n",
      " #   Column         Non-Null Count  Dtype \n",
      "---  ------         --------------  ----- \n",
      " 0   Unique_ID      60889 non-null  int64 \n",
      " 1   Category       60889 non-null  object\n",
      " 2   Review_Header  60884 non-null  object\n",
      " 3   Review_text    60857 non-null  object\n",
      " 4   Rating         60889 non-null  int64 \n",
      " 5   Own_Rating     60889 non-null  object\n",
      "dtypes: int64(2), object(4)\n",
      "memory usage: 2.8+ MB\n"
     ]
    }
   ],
   "source": [
    "# get some basic info about dataset\n",
    "amazonReviews.info()"
   ]
  },
  {
   "cell_type": "code",
   "execution_count": 9,
   "id": "825422fe-d40c-4e60-8cdd-4f878b71ee4c",
   "metadata": {
    "scrolled": true
   },
   "outputs": [
    {
     "data": {
      "text/html": [
       "<div>\n",
       "<style scoped>\n",
       "    .dataframe tbody tr th:only-of-type {\n",
       "        vertical-align: middle;\n",
       "    }\n",
       "\n",
       "    .dataframe tbody tr th {\n",
       "        vertical-align: top;\n",
       "    }\n",
       "\n",
       "    .dataframe thead th {\n",
       "        text-align: right;\n",
       "    }\n",
       "</style>\n",
       "<table border=\"1\" class=\"dataframe\">\n",
       "  <thead>\n",
       "    <tr style=\"text-align: right;\">\n",
       "      <th></th>\n",
       "      <th>Unique_ID</th>\n",
       "      <th>Category</th>\n",
       "      <th>Review_Header</th>\n",
       "      <th>Review_text</th>\n",
       "      <th>Rating</th>\n",
       "      <th>Own_Rating</th>\n",
       "    </tr>\n",
       "  </thead>\n",
       "  <tbody>\n",
       "    <tr>\n",
       "      <th>0</th>\n",
       "      <td>136040</td>\n",
       "      <td>smartTv</td>\n",
       "      <td>Nice one</td>\n",
       "      <td>I liked it</td>\n",
       "      <td>5</td>\n",
       "      <td>Positive</td>\n",
       "    </tr>\n",
       "    <tr>\n",
       "      <th>1</th>\n",
       "      <td>134236</td>\n",
       "      <td>mobile</td>\n",
       "      <td>Huge battery life with amazing display</td>\n",
       "      <td>I bought the phone on Amazon and been using my...</td>\n",
       "      <td>5</td>\n",
       "      <td>Positive</td>\n",
       "    </tr>\n",
       "    <tr>\n",
       "      <th>2</th>\n",
       "      <td>113945</td>\n",
       "      <td>books</td>\n",
       "      <td>Four Stars</td>\n",
       "      <td>Awesome book at reasonable price, must buy ......</td>\n",
       "      <td>4</td>\n",
       "      <td>Positive</td>\n",
       "    </tr>\n",
       "  </tbody>\n",
       "</table>\n",
       "</div>"
      ],
      "text/plain": [
       "   Unique_ID Category                           Review_Header  \\\n",
       "0     136040  smartTv                                Nice one   \n",
       "1     134236   mobile  Huge battery life with amazing display   \n",
       "2     113945    books                              Four Stars   \n",
       "\n",
       "                                         Review_text  Rating Own_Rating  \n",
       "0                                         I liked it       5   Positive  \n",
       "1  I bought the phone on Amazon and been using my...       5   Positive  \n",
       "2  Awesome book at reasonable price, must buy ......       4   Positive  "
      ]
     },
     "execution_count": 9,
     "metadata": {},
     "output_type": "execute_result"
    }
   ],
   "source": [
    "# view a few rows\n",
    "amazonReviews.head(3)"
   ]
  },
  {
   "cell_type": "markdown",
   "id": "bc411bc7-9ca3-4a25-bdbf-cfb6e6d37955",
   "metadata": {},
   "source": [
    "## make a smaller sample of the main dataset (5000 rows)"
   ]
  },
  {
   "cell_type": "code",
   "execution_count": 10,
   "id": "eabd4c10-8c0e-47c3-b798-9282cdfb1def",
   "metadata": {},
   "outputs": [],
   "source": [
    "# make a smaller sample of the data to test on\n",
    "sampleAmazon1 = amazonReviews.sample(n=5000,random_state=1)"
   ]
  },
  {
   "cell_type": "code",
   "execution_count": null,
   "id": "507e0578-c521-4090-88cd-616a05c3916c",
   "metadata": {},
   "outputs": [],
   "source": []
  },
  {
   "cell_type": "markdown",
   "id": "f59b91ef-48cc-4c4f-b9d6-f80a6a04b66e",
   "metadata": {},
   "source": [
    "# Preprocess sample dataset"
   ]
  },
  {
   "cell_type": "code",
   "execution_count": null,
   "id": "74059504-f1f4-43bf-a2cb-089d136e2cab",
   "metadata": {},
   "outputs": [],
   "source": [
    "def preprocess_reviews(df, text_column='Review_text'):\n",
    "    \"\"\"\n",
    "    preprocess texts within a dataFrame.\n",
    "\n",
    "    parameters:\n",
    "    - df: pandas dataframe containing the review texts.\n",
    "    - text_column: the name of the column containing the review texts.\n",
    "\n",
    "    returns:\n",
    "    - dataFrame with an additional column 'preprocessed_Review_text' for the preprocessed texts.\n",
    "    \"\"\"\n",
    "    preprocessed_texts = []\n",
    "\n",
    "    for text in df[text_column]:\n",
    "        # Ensure text is a string\n",
    "        text = str(text)\n",
    "        # Lowercase the text\n",
    "        text = text.lower()\n",
    "        # Remove emojis\n",
    "        text = demoji.replace(text, \"\")\n",
    "        # Remove punctuation\n",
    "        text = text.translate(str.maketrans('', '', string.punctuation))\n",
    "        # Remove stopwords\n",
    "        text = ' '.join([word for word in text.split() if word not in stop_words])\n",
    "        preprocessed_texts.append(text)\n",
    "    \n",
    "    # Add the preprocessed texts as a new column in the DataFrame\n",
    "    df['preprocessed_' + text_column] = preprocessed_texts\n",
    "\n",
    "    return df"
   ]
  },
  {
   "cell_type": "code",
   "execution_count": null,
   "id": "b15db354-7155-41df-818e-2caa3641b02b",
   "metadata": {},
   "outputs": [],
   "source": [
    "# Initialize stopwords set\n",
    "stop_words = set(stopwords.words('english'))"
   ]
  },
  {
   "cell_type": "code",
   "execution_count": null,
   "id": "fb5a9a43-3b61-426b-bbeb-ffd2bd45160f",
   "metadata": {},
   "outputs": [],
   "source": [
    "# Remove emojis\n",
    "demoji.download_codes()"
   ]
  },
  {
   "cell_type": "code",
   "execution_count": null,
   "id": "49838f99-ba75-4b96-808b-ebf213cf180f",
   "metadata": {},
   "outputs": [],
   "source": [
    "# Process the DataFrame\n",
    "df_processed = preprocess_reviews(df)"
   ]
  }
 ],
 "metadata": {
  "kernelspec": {
   "display_name": "projectSentiment",
   "language": "python",
   "name": "projectsentiment"
  },
  "language_info": {
   "codemirror_mode": {
    "name": "ipython",
    "version": 3
   },
   "file_extension": ".py",
   "mimetype": "text/x-python",
   "name": "python",
   "nbconvert_exporter": "python",
   "pygments_lexer": "ipython3",
   "version": "3.11.5"
  }
 },
 "nbformat": 4,
 "nbformat_minor": 5
}
